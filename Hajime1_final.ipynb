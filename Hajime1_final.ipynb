{
 "cells": [
  {
   "cell_type": "code",
   "execution_count": 26,
   "id": "4405c607",
   "metadata": {},
   "outputs": [],
   "source": [
    "import numpy as np\n",
    "import pandas as pd\n",
    "import scipy as sc\n",
    "import os\n",
    "from datetime import date\n",
    "from os import listdir\n",
    "from os.path import isfile, join"
   ]
  },
  {
   "cell_type": "code",
   "execution_count": 15,
   "id": "158ffd7e",
   "metadata": {},
   "outputs": [],
   "source": [
    "def d_day_index(f, n):\n",
    "    for i1 in range(n):\n",
    "        f.loc[i1, ['day_index']] = i1+1\n",
    "    return f\n",
    "\n",
    "\n",
    "def state_hour(f, n):\n",
    "    for i2 in range(n + 1):\n",
    "        dn = 24 * i2\n",
    "        f.loc[dn:dn + 6, ['state']] = str('dark')\n",
    "        f.loc[dn + 7:dn + 18, ['state']] = str('light')\n",
    "        f.loc[dn + 19:dn + 24, ['state']] = str('dark')\n",
    "    return f\n",
    "\n",
    "\n",
    "def m_day_and_hour_index(f, n):\n",
    "    h_counter = 1\n",
    "    for i3 in range(n + 1):\n",
    "        dn = 24 * i3\n",
    "        f.loc[dn:dn + 23, ['day_index']] = i3+1\n",
    "        for j3 in range(24):\n",
    "            interval_m = dn + j3\n",
    "            f.loc[interval_m:interval_m + 1, ['hour_index']] = h_counter\n",
    "            h_counter = h_counter + 1\n",
    "    return f\n",
    "\n",
    "\n",
    "def state_(f, n):\n",
    "    for i4 in range(n + 1):\n",
    "        dn = 1440 * i4\n",
    "        f.loc[dn:dn + 419, ['state']] = str('dark')\n",
    "        f.loc[dn + 420:dn + 1139, ['state']] = str('light')\n",
    "        f.loc[dn + 1140:dn + 1439, ['state']] = str('dark')\n",
    "    return f\n",
    "\n",
    "\n",
    "def day_and_hour_index(f, n):\n",
    "    h_counter = 1\n",
    "    for i5 in range(n + 1):\n",
    "        dn = 1440 * i5\n",
    "        f.loc[dn:dn + 1439, ['day_index']] = i5+1\n",
    "        for j5 in range(24):\n",
    "            interval_m = dn + (j5*60)\n",
    "            f.loc[interval_m:interval_m + 60, ['hour_index']] = h_counter\n",
    "            h_counter = h_counter + 1\n",
    "    return f\n"
   ]
  },
  {
   "cell_type": "markdown",
   "id": "3f1b7e2a",
   "metadata": {},
   "source": [
    "## Table for water\n",
    "<img src=\"liquid%20and%20food.jpg\">"
   ]
  },
  {
   "cell_type": "code",
   "execution_count": null,
   "id": "8c27ea79",
   "metadata": {},
   "outputs": [],
   "source": [
    "def max_daily_(gender, age, w, value):\n",
    "    #10.1016/B978-0-444-81871-3.50019-9\n",
    "    #10.3758/BF03326861\n",
    "    '''\n",
    "    Look at the table above!\n",
    "    '''\n",
    "    return(val)"
   ]
  },
  {
   "cell_type": "code",
   "execution_count": null,
   "id": "1df28888",
   "metadata": {},
   "outputs": [],
   "source": [
    "def real_consump(val, w, p)\n",
    "\n",
    "    return()"
   ]
  },
  {
   "cell_type": "markdown",
   "id": "fe176947",
   "metadata": {},
   "source": [
    "## Table for weight\n",
    "\n",
    "10.1080/10934529.2012.672071\n",
    "\n",
    "<img src=\"weight.png\">\n",
    "\n",
    "10.2310/7290.2013.00053\n",
    "<img src=\"weight_1.png\">"
   ]
  },
  {
   "cell_type": "markdown",
   "id": "b2cdf431",
   "metadata": {},
   "source": [
    "Colman, Karyn. \"Impact of the genetics and source of preclinical safety animal models on study design, results, and interpretation.\" Toxicologic pathology 45.1 (2017): 94-106."
   ]
  },
  {
   "cell_type": "code",
   "execution_count": 35,
   "id": "aa5398f5",
   "metadata": {},
   "outputs": [],
   "source": [
    "def weight_calculator(gender, age, w):\n",
    "    if gender == str(wistar):\n",
    "        \n",
    "    return()"
   ]
  },
  {
   "cell_type": "code",
   "execution_count": null,
   "id": "5ad13dc8",
   "metadata": {},
   "outputs": [],
   "source": [
    "def wistar_w(gender):\n",
    "# https://animal.ncku.edu.tw/p/412-1130-16363.php?Lang=en\n",
    "    if gender == str(\"male\"):\n",
    "        x = [3, 4, 5, 6, 7, 8, 9, 10, 11, 12]\n",
    "        y = [48, 79, 116, 149, 195, 240, 291, 231, 342, 362]\n",
    "        sigma = [5.6, 8.8, 12, 16, 20, 22, 22, 22, 22, 22]\n",
    "    elif gender == str(\"female\"):\n",
    "        x = [3, 4, 5, 6, 7, 8, 9, 10, 11, 12]\n",
    "        y = [38, 65, 96, 122, 156, 182, 197, 218, 229, 240]\n",
    "        sigma = [3, 4, 5, 8, 8, 7, 9, 7, 9, 17]\n",
    "    else:\n",
    "        print(\"You fucked up the gender on weight optimizer.\")\n",
    "    return L"
   ]
  },
  {
   "cell_type": "code",
   "execution_count": 63,
   "id": "d073b0e8",
   "metadata": {},
   "outputs": [],
   "source": [
    "x = [3, 4, 5, 6, 7, 8, 9, 10, 11, 12]\n",
    "y = [38, 65, 96, 122, 156, 182, 197, 218, 229, 240]\n",
    "sigma = [3, 4, 5, 8, 8, 7, 9, 7, 9, 17]\n",
    "from scipy.optimize import curve_fit\n",
    "import matplotlib.pyplot as plt"
   ]
  },
  {
   "cell_type": "code",
   "execution_count": 66,
   "id": "15b8d486",
   "metadata": {},
   "outputs": [
    {
     "name": "stdout",
     "output_type": "stream",
     "text": [
      "y = 39.78403 * x + -1.08449 * x^2 + -73.43210\n"
     ]
    },
    {
     "data": {
      "image/png": "[encoded data removed]",
      "text/plain": [
       "<Figure size 640x480 with 1 Axes>"
      ]
     },
     "metadata": {},
     "output_type": "display_data"
    }
   ],
   "source": [
    "#Let’s try a polynomial regression model\n",
    "\n",
    "def func(x, a, b, c):\n",
    "    return a * x + b * x**2 + c\n",
    "popt, pcov = curve_fit(func, x, y, sigma = sigma)\n",
    "a, b,c = popt\n",
    "print('y = %.5f * x + %.5f * x^2 + %.5f' % (a, b, c))\n",
    "# plot input vs output\n",
    "plt.scatter(x, y)\n",
    "# define a sequence of inputs between the smallest and largest known inputs\n",
    "x_line = np.arange(min(x), max(x), 1)\n",
    "# calculate the output for the range\n",
    "y_line = func(x_line, a, b, c)\n",
    "# create a line plot for the mapping function\n",
    "plt.plot(x_line, y_line, '--', color='red')\n",
    "plt.show()"
   ]
  },
  {
   "cell_type": "code",
   "execution_count": null,
   "id": "14e8371e",
   "metadata": {},
   "outputs": [],
   "source": []
  },
  {
   "cell_type": "code",
   "execution_count": null,
   "id": "8ced63f7",
   "metadata": {},
   "outputs": [],
   "source": []
  },
  {
   "cell_type": "code",
   "execution_count": null,
   "id": "ac50e1f3",
   "metadata": {},
   "outputs": [],
   "source": []
  },
  {
   "cell_type": "code",
   "execution_count": 36,
   "id": "08cbd7e6",
   "metadata": {},
   "outputs": [],
   "source": [
    "def threshup_(n_d):\n",
    "    #DOI 10.1211/jpp.60.1.0008\n",
    "    th_u_comft = 3.38 + 0.52\n",
    "    #th_u_stretched = 4.63 + 0.44\n",
    "    #th_u_burst = 6.63 + 0.92\n",
    "    return th_u_comft"
   ]
  },
  {
   "cell_type": "code",
   "execution_count": 37,
   "id": "f66b67f4",
   "metadata": {},
   "outputs": [],
   "source": [
    "def writer_(main_df, list_of_them, number, method, a_n):\n",
    "    print(number)\n",
    "    file = pd.read_excel(\"{}\".format(list_of_them[number]), skiprows=35)\n",
    "    if method == str('dep_onlywater'):\n",
    "        file_ = file.rename(columns={'Unnamed: 0': 'date', 'Unnamed: 1': 'time', 'Unnamed: 2': 'animal',\n",
    "                                     'Unnamed: 3': 'box', '[ml]': 'water'})\n",
    "        extracted_a1 = file_[file_['box'] == a_n]\n",
    "        list_index = list(file_[file_['box'] == a_n].index)\n",
    "        for i6 in range(len(extracted_a1)):\n",
    "            ind0 = main_df.loc[(main_df['date'] == extracted_a1['date'][list_index[i6]].strftime('%Y-%m-%d')) &\n",
    "                               (main_df['time'] == extracted_a1['time'][list_index[i6]].strftime('%H:%M:%S'))].index[0]\n",
    "            main_df.loc[ind0, 'water'] = extracted_a1['water'][list_index[i6]]\n",
    "    elif method == str('ade_only'):\n",
    "        file_ = file.rename(columns={'Unnamed: 0': 'date', 'Unnamed: 1': 'time', 'Unnamed: 2': 'animal',\n",
    "                                     'Unnamed: 3': 'box', '[ml]': 'water', '[ml].1': 'alcohol-5%',\n",
    "                                     '[ml].2': 'alcohol-10%', '[ml].3': 'alcohol-20%'})\n",
    "        extracted_a1 = file_[file_['box'] == a_n]\n",
    "        list_index = list(file_[file_['box'] == a_n].index)\n",
    "        for i7 in range(len(extracted_a1)):\n",
    "            ind1 = main_df.loc[(main_df['date'] == extracted_a1['date'][list_index[i7]].strftime('%Y-%m-%d')) &\n",
    "                               (main_df['time'] == extracted_a1['time'][list_index[i7]].strftime('%H:%M:%S'))].index[0]\n",
    "            main_df.loc[ind1, 'water'] = extracted_a1['water'][list_index[i7]]\n",
    "            main_df.loc[ind1, 'alcohol-5%'] = extracted_a1['alcohol-5%'][list_index[i7]]\n",
    "            main_df.loc[ind1, 'alcohol-10%'] = extracted_a1['alcohol-10%'][list_index[i7]]\n",
    "            main_df.loc[ind1, 'alcohol-20%'] = extracted_a1['alcohol-20%'][list_index[i7]]\n",
    "    elif method == str('ade_oxy'):\n",
    "        file_ = file.rename(columns={'Unnamed: 0': 'date', 'Unnamed: 1': 'time', 'Unnamed: 2': 'animal',\n",
    "                                     'Unnamed: 3': 'box', '[ml]': 'water', '[ml].1': 'alcohol-5%',\n",
    "                                     '[ml].2': 'alcohol-10%', '[ml].3': 'alcohol-20%'})\n",
    "        extracted_a1 = file_[file_['box'] == a_n]\n",
    "        list_index = list(file_[file_['box'] == a_n].index)\n",
    "        for i8 in range(len(extracted_a1)):\n",
    "            ind2 = main_df.loc[(main_df['date'] == extracted_a1['date'][list_index[i8]].strftime('%Y-%m-%d')) &\n",
    "                               (main_df['time'] == extracted_a1['time'][list_index[i8]].strftime('%H:%M:%S'))].index[0]\n",
    "            main_df.loc[ind2, 'water'] = extracted_a1['water'][list_index[i8]]\n",
    "            main_df.loc[ind2, 'alcohol-5%'] = extracted_a1['alcohol-5%'][list_index[i8]]\n",
    "            main_df.loc[ind2, 'alcohol-10%'] = extracted_a1['alcohol-10%'][list_index[i8]]\n",
    "            main_df.loc[ind2, 'alcohol-20%'] = extracted_a1['alcohol-20%'][list_index[i8]]\n",
    "            main_df.loc[ind2, 'oxytocin'] = str('applied')\n",
    "    elif method == str('dep_quinine'):\n",
    "        file_ = file.rename(columns={'Unnamed: 0': 'date', 'Unnamed: 1': 'time', 'Unnamed: 2': 'animal',\n",
    "                                     'Unnamed: 3': 'box', '[ml]': 'water'})\n",
    "        extracted_a1 = file_[file_['box'] == a_n]\n",
    "        list_index = list(file_[file_['box'] == a_n].index)\n",
    "        for i9 in range(len(extracted_a1)):\n",
    "            ind3 = main_df.loc[(main_df['date'] == extracted_a1['date'][list_index[i9]].strftime('%Y-%m-%d')) &\n",
    "                               (main_df['time'] == extracted_a1['time'][list_index[i9]].strftime('%H:%M:%S'))].index[0]\n",
    "            main_df.loc[ind3, 'water'] = extracted_a1['water'][list_index[i9]]\n",
    "            main_df.loc[ind3, 'quinine'] = str('applied')\n",
    "    elif method == str('ade_quinine'):\n",
    "        file_ = file.rename(columns={'Unnamed: 0': 'date', 'Unnamed: 1': 'time', 'Unnamed: 2': 'animal',\n",
    "                                     'Unnamed: 3': 'box', '[ml]': 'water', '[ml].1': 'alcohol-5%',\n",
    "                                     '[ml].2': 'alcohol-10%', '[ml].3': 'alcohol-20%'})\n",
    "        extracted_a1 = file_[file_['box'] == box]\n",
    "        list_index = list(file_[file_['box'] == a_n].index)\n",
    "        for i10 in range(len(extracted_a1)):\n",
    "            ind4 = main_df.loc[(main_df['date'] == extracted_a1['date'][list_index[i10]].strftime('%Y-%m-%d')) &\n",
    "                               (main_df['time'] == extracted_a1['time'][list_index[i10]].strftime('%H:%M:%S'))].index[0]\n",
    "            main_df.loc[ind4, 'water'] = extracted_a1['water'][list_index[i10]]\n",
    "            main_df.loc[ind4, 'alcohol-5%'] = extracted_a1['alcohol-5%'][list_index[i10]]\n",
    "            main_df.loc[ind4, 'alcohol-10%'] = extracted_a1['alcohol-10%'][list_index[i10]]\n",
    "            main_df.loc[ind4, 'alcohol-20%'] = extracted_a1['alcohol-20%'][list_index[i10]]\n",
    "            main_df.loc[ind4, 'quinine'] = str('applied')\n",
    "    else:\n",
    "        print(\"{} is non of them\".format(list_of_them[number]))\n",
    "    return main_df"
   ]
  },
  {
   "cell_type": "code",
   "execution_count": 10,
   "id": "976f914a",
   "metadata": {},
   "outputs": [
    {
     "name": "stdout",
     "output_type": "stream",
     "text": [
      "Please enter the animal code:\n",
      "1003\n",
      "Please enter the box number:\n",
      "3\n",
      "Please enter the strain of the animal\n",
      "Wistar\n",
      "Please enter the start date:(year)\n",
      "2020\n",
      "Please enter the start date:(month)\n",
      "02\n",
      "Please enter the start date:(day)\n",
      "12\n",
      "Please enter the end date:(year)\n",
      "2020\n",
      "Please enter the end date:(month)\n",
      "11\n",
      "Please enter the end date:(day)\n",
      "17\n"
     ]
    }
   ],
   "source": [
    "print(\"Please enter the animal code:\")\n",
    "animal = input()\n",
    "print(\"Please enter the box number:\")\n",
    "box = input()\n",
    "print(\"Please enter the strain of the animal\")\n",
    "strain = input()\n",
    "print(\"Please enter the start date:(year)\")\n",
    "d1 = input()\n",
    "print(\"Please enter the start date:(month)\")\n",
    "d2 = input()\n",
    "print(\"Please enter the start date:(day)\")\n",
    "d3 = input()\n",
    "date_i = date(int(d1), int(d2), int(d3))\n",
    "print(\"Please enter the end date:(year)\")\n",
    "d4 = input()\n",
    "print(\"Please enter the end date:(month)\")\n",
    "d5 = input()\n",
    "print(\"Please enter the end date:(day)\")\n",
    "d6 = input()\n",
    "date_f = date(int(d4), int(d5), int(d6))\n"
   ]
  },
  {
   "cell_type": "code",
   "execution_count": 16,
   "id": "d136870d",
   "metadata": {},
   "outputs": [
    {
     "name": "stdout",
     "output_type": "stream",
     "text": [
      "Experiement was 280 days long\n"
     ]
    }
   ],
   "source": [
    "delta = date_f - date_i\n",
    "number_of_days = int(delta.days)+1\n",
    "print(\"Experiement was {} days long\".format(number_of_days))\n",
    "\n",
    "total_length = number_of_days * 1440      #length of dataframe for minute time_scale\n",
    "df = pd.DataFrame(index = range(total_length), columns = ['data', 'time', 'day_index', 'hour_index',\n",
    "                                                         'animal', 'box', 'strain',\n",
    "                                                         'state', 'oxytocin', 'quinine', 'water',\n",
    "                                                         'alcohol_5%', 'alsohol_10%', 'alcohol_20%',\n",
    "                                                         'locomotive'])\n",
    "\n",
    "df = state_(df, number_of_days)\n",
    "df = day_and_hour_index(df, number_of_days)\n",
    "df['animal'] = animal\n",
    "df['box'] = box\n",
    "df['strain'] = strain\n",
    "df['date'] = pd.date_range(\"{}-{}-{}\".format(d1,d2,d3), periods=total_length, freq=\"T\").strftime('%Y-%m-%d')\n",
    "df['date'] = pd.date_range(\"{}-{}-{}\".format(d1,d2,d3), periods=total_length, freq=\"T\").strftime('%H:%M:%S')\n",
    "\n",
    "path = os.getcwd()\n",
    "path = path+'\\\\data\\\\2020'\n",
    "onlyfiles = [f for f in listdir(\"{}\".format(path))\n",
    "             if isfile(join(\"{}\".format(path), f))]"
   ]
  },
  {
   "cell_type": "code",
   "execution_count": 25,
   "id": "d10493b0",
   "metadata": {},
   "outputs": [],
   "source": [
    "#scrolling over all files for the current animal\n",
    "\n",
    "df = writer_(df, onlyfiles, 0, str('dep_onlywater'), box)\n",
    "df = writer_(df, onlyfiles, 1, str('ade_only'), box)\n",
    "df = writer_(df, onlyfiles, 2, str('ade_only'), box)\n",
    "df = writer_(df, onlyfiles, 3, str('ade_only'), box)\n",
    "df = writer_(df, onlyfiles, 4, str('ade_only'), box)\n",
    "df = writer_(df, onlyfiles, 5, str('dep_onlywater'), box)\n",
    "df = writer_(df, onlyfiles, 6, str('dep_onlywater'), box)\n",
    "df = writer_(df, onlyfiles, 7, str('ade_only'), box)\n",
    "df = writer_(df, onlyfiles, 8, str('ade_only'), box)\n",
    "df = writer_(df, onlyfiles, 9, str('ade_only'), box)\n",
    "df = writer_(df, onlyfiles, 10, str('ade_only'), box)\n",
    "\n",
    "df = writer_(df, onlyfiles, 11, str('dep_onlywater'), box)\n",
    "df = writer_(df, onlyfiles, 12, str('dep_onlywater'), box)\n",
    "df = writer_(df, onlyfiles, 13, str('ade_only'), box)\n",
    "df = writer_(df, onlyfiles, 14, str('ade_only'), box)\n",
    "df = writer_(df, onlyfiles, 15, str('ade_only'), box)\n",
    "df = writer_(df, onlyfiles, 16, str('ade_only'), box)\n",
    "df = writer_(df, onlyfiles, 17, str('dep_onlywater'), box)\n",
    "df = writer_(df, onlyfiles, 18, str('dep_onlywater'), box)\n",
    "df = writer_(df, onlyfiles, 19, str('ade_only'), box)\n",
    "df = writer_(df, onlyfiles, 20, str('ade_only'), box)\n",
    "\n",
    "df = writer_(df, onlyfiles, 21, str('ade_only'), box)\n",
    "df = writer_(df, onlyfiles, 22, str('ade_only'), box)\n",
    "df = writer_(df, onlyfiles, 23, str('dep_onlywater'), box)\n",
    "df = writer_(df, onlyfiles, 24, str('dep_onlywater'), box)\n",
    "df = writer_(df, onlyfiles, 25, str('ade_only'), box)\n",
    "df = writer_(df, onlyfiles, 26, str('dep_onlywater'), box)\n",
    "df = writer_(df, onlyfiles, 27, str('dep_onlywater'), box)\n",
    "df = writer_(df, onlyfiles, 28, str('ade_quinine'), box)\n",
    "df = writer_(df, onlyfiles, 29, str('ade_only'), box)\n",
    "df = writer_(df, onlyfiles, 30, str('dep_onlywater'), box)\n",
    "\n",
    "df = writer_(df, onlyfiles, 31, str('ade_quinine'), box)\n",
    "df = writer_(df, onlyfiles, 32, str('ade_only'), box)\n",
    "df = writer_(df, onlyfiles, 33, str('ade_only'), box)\n",
    "df = writer_(df, onlyfiles, 34, str('dep_onlywater'), box)\n",
    "df = writer_(df, onlyfiles, 35, str('ade_oxy'), box)"
   ]
  },
  {
   "cell_type": "code",
   "execution_count": null,
   "id": "cced2978",
   "metadata": {},
   "outputs": [],
   "source": [
    "#df.to_csv(r'C:\\Users\\mehrd\\Desktop\\work\\ivan_colab\\fun\\run\\drinkometer_df_w_1002_2_raw.csv', index=False, header=True)\n",
    "df.to_excel(r'C:\\Users\\mehrd\\Desktop\\work\\ivan_colab\\fun\\run\\drinkometer_df_w_1003_3_raw.xlsx', index=False, header=True)\n"
   ]
  },
  {
   "cell_type": "code",
   "execution_count": null,
   "id": "3722b0f1",
   "metadata": {},
   "outputs": [],
   "source": []
  },
  {
   "cell_type": "code",
   "execution_count": null,
   "id": "f15c2824",
   "metadata": {},
   "outputs": [],
   "source": [
    "df1 = pd.DataFrame(index=range(total_length), columns=['date', 'time', 'day_index', 'hour_index', 'animal', 'box',\n",
    "                                                       'strain', 'state', 'weight', 'oxytocin', 'quinine', 'water',\n",
    "                                                       'alcohol-5%', 'alcohol-10%', 'alcohol-20%', 'locomoti"
   ]
  },
  {
   "cell_type": "code",
   "execution_count": null,
   "id": "22e62005",
   "metadata": {},
   "outputs": [],
   "source": [
    "df1 = state_(df1, number_of_days)\n",
    "df1 = day_and_hour_index(df1, number_of_days)\n",
    "df1['animal'] = animal\n",
    "df1['box'] = box\n",
    "df1['strain'] = strain\n",
    "df1['date'] = pd.date_range(\"{}-{}-{}\".format(d1,d2,d3), periods=total_length, freq=\"T\").strftime('%Y-%m-%d')\n",
    "df1['date'] = pd.date_range(\"{}-{}-{}\".format(d1,d2,d3), periods=total_length, freq=\"T\").strftime('%H:%M:%S')\n",
    "df1['quinine'] = df['quinine']\n",
    "df1['oxytocin'] = df['oxytocin']\n",
    "df1['state'] = df['state']\n",
    "\n",
    "for hour in range(1, number_of_days * 24 + 1):\n",
    "    df_extracted = df.loc[(df['hour_index'] == hour) & (df['water'].notnull())]\n",
    "    list_ = np.array(df_extracted.water.index)\n",
    "    if len(list_) > 1:\n",
    "        for i in range(len(list_) - 1):\n",
    "            temp_val = df.loc[list_[i + 1], 'water'] - df.loc[list_[i], 'water']\n",
    "            if temp_val != 0.0:\n",
    "                df1.loc[list_[i + 1], 'water'] = temp_val\n",
    "    df_extracted = df.loc[(df['hour_index'] == hour) & (df['alcohol-5%'].notnull())]\n",
    "    list_ = np.array(df_extracted.water.index)\n",
    "    if len(list_) > 1:\n",
    "        for i in range(len(list_) - 1):\n",
    "            temp_val = df.loc[list_[i + 1], 'alcohol-5%'] - df.loc[list_[i], 'alcohol-5%']\n",
    "            if temp_val != 0.0:\n",
    "                df1.loc[list_[i + 1], 'alcohol-5%'] = temp_val\n",
    "    df_extracted = df.loc[(df['hour_index'] == hour) & (df['alcohol-10%'].notnull())]\n",
    "    list_ = np.array(df_extracted.water.index)\n",
    "    if len(list_) > 1:\n",
    "        for i in range(len(list_) - 1):\n",
    "            temp_val = df.loc[list_[i + 1], 'alcohol-10%'] - df.loc[list_[i], 'alcohol-10%']\n",
    "            if temp_val != 0.0:\n",
    "                df1.loc[list_[i + 1], 'alcohol-10%'] = temp_val\n",
    "    df_extracted = df.loc[(df['hour_index'] == hour) & (df['alcohol-20%'].notnull())]\n",
    "    list_ = np.array(df_extracted.water.index)\n",
    "    if len(list_) > 1:\n",
    "        for i in range(len(list_) - 1):\n",
    "            temp_val = df.loc[list_[i + 1], 'alcohol-20%'] - df.loc[list_[i], 'alcohol-20%']\n",
    "            if temp_val != 0.0:\n",
    "                df1.loc[list_[i + 1], 'alcohol-20%'] = temp_val"
   ]
  },
  {
   "cell_type": "code",
   "execution_count": null,
   "id": "0be594f2",
   "metadata": {},
   "outputs": [],
   "source": [
    "#df1.to_csv(r'C:\\Users\\mehrd\\Desktop\\work\\ivan_colab\\fun\\run\\drinkometer_df_w_1002_2_consumption.csv', index=False, header=True)\n",
    "df1.to_excel(r'C:\\Users\\mehrd\\Desktop\\work\\ivan_colab\\fun\\run\\drinkometer_df_w_1003_3_consumption.xlsx', index=False, header=True)\n"
   ]
  },
  {
   "cell_type": "code",
   "execution_count": null,
   "id": "e66c0fb7",
   "metadata": {},
   "outputs": [],
   "source": []
  },
  {
   "cell_type": "code",
   "execution_count": null,
   "id": "f5a862cd",
   "metadata": {},
   "outputs": [],
   "source": []
  },
  {
   "cell_type": "code",
   "execution_count": null,
   "id": "ccea2ec4",
   "metadata": {},
   "outputs": [],
   "source": []
  },
  {
   "cell_type": "code",
   "execution_count": null,
   "id": "854c16a2",
   "metadata": {},
   "outputs": [],
   "source": []
  },
  {
   "cell_type": "markdown",
   "id": "0bd3fb96",
   "metadata": {},
   "source": [
    "# threshold low reason:\n",
    "The system is \"drifting\" continuously - look at the data, it measures 0.01-0.02 ml continuously, every half an hour or so (different for every sensor). This is not drinking, this is some error of the sensor. Design of the sensor is not perfect, it reacts to room temperature and to the weight of the bottle, this is where this \"drifting\" comes from. So, this evenly distributed small value must be deleted. \"Drifting\" is stronger when the bottles have just been hanged, because the sensor takes time to adjust to the weight. If sensors were not used for a long time it is recommended to let the sensor adjust to the bottles for 24 hours before starting measurements, because this \"drifting\" will be too strong otherwise. Also, you need to recalibrate them time to time. And yes, it also happens that some drops are lost, especially when bottles have just been hanged. \n",
    "To make a long story short - I was checking the change of bottle weight (on the computer monitor) when the rat was actually drinking - rat never drinks below 0.1 ml. So, with a clear conscience, everything below 0.1 ml is probably not drinking and can be deleted. \n",
    "But the proper mathematical way to get rid of this problem would be different, you can of course create a filter that identifies real drinking bouts and filters everything else. But since I have no mathematical knowledge, I just used the simple \"if '' function.\n"
   ]
  },
  {
   "cell_type": "code",
   "execution_count": null,
   "id": "bb7242f5",
   "metadata": {},
   "outputs": [],
   "source": []
  },
  {
   "cell_type": "code",
   "execution_count": null,
   "id": "2984f86b",
   "metadata": {},
   "outputs": [],
   "source": [
    "threshold_low = 0.08\n",
    "threshold_up = threshup_(number_of_days)\n",
    "total_length_h = number_of_days * 24\n",
    "\n",
    "df_h = pd.DataFrame(index=range(number_of_days * 24), columns=['date', 'time', 'day_index', 'hour_index', 'animal',\n",
    "                                                               'box', 'strain', 'state', 'oxytocin', 'quinine',\n",
    "                                                               'water', 'alcohol-5%', 'alcohol-10%', 'alcohol-20%', 'locomotive'])\n",
    "df_h = m_day_and_hour_index(df_h, number_of_days)\n",
    "df_h = state_hour(df_h, number_of_days)\n",
    "\n",
    "df_h['animal'] = animal\n",
    "df_h['box'] = box\n",
    "df_h['strain'] = strain\n",
    "df_h['date'] = pd.date_range(\"2020-02-12\", periods=number_of_days * 24, freq=\"H\").strftime('%Y-%m-%d')\n",
    "df_h['time'] = pd.date_range(\"2020-02-12\", periods=number_of_days * 24, freq=\"H\").strftime('%H:%M:%S')\n",
    "\n",
    "hours = sorted(set(np.array(df1.loc[(df1['quinine'] == str('applied'))].hour_index)))\n",
    "for i in range(len(hours)):\n",
    "    df_h.loc[hours[i]-1, 'quinine'] = str('applied')\n",
    "\n",
    "hours = sorted(set(np.array(df1.loc[(df1['oxytocin'] == str('applied'))].hour_index)))\n",
    "for i in range(len(hours)):\n",
    "    df_h.loc[hours[i]-1, 'oxytocin'] = str('applied')\n",
    "\n",
    "\n",
    "for hour in range(1, number_of_days*24+1):\n",
    "    list_ = []\n",
    "    ind = np.array(df_h.loc[(df_h['hour_index'] == hour)].index)\n",
    "    df_extracted = df1.loc[(df1['hour_index'] == hour) & (df1['water'].notnull())]\n",
    "    temp_arr = np.array(df_extracted['water'])\n",
    "    if len(temp_arr[temp_arr > threshold_low]) > 1:\n",
    "        _temp = np.nansum(temp_arr[temp_arr > threshold_low])\n",
    "        if (_temp < threshold_up):\n",
    "            df_h.loc[ind, 'water'] = _temp\n",
    "            _temp = np.nan\n",
    "\n",
    "    list_ = []\n",
    "    ind = np.array(df_h.loc[(df_h['hour_index'] == hour)].index)\n",
    "    df_extracted = df1.loc[(df1['hour_index'] == hour) & (df1['alcohol-5%'].notnull())]\n",
    "    temp_arr = np.array(df_extracted['alcohol-5%'])\n",
    "    if len(temp_arr[temp_arr > threshold_low]) > 1:\n",
    "        _temp = np.nansum(temp_arr[temp_arr > threshold_low])\n",
    "        if (_temp < threshold_up):\n",
    "            df_h.loc[ind, 'alcohol-5%'] = _temp\n",
    "            _temp = np.nan\n",
    "        \n",
    "\n",
    "    list_ = []\n",
    "    ind = np.array(df_h.loc[(df_h['hour_index'] == hour)].index)\n",
    "    df_extracted = df1.loc[(df1['hour_index'] == hour) & (df1['alcohol-10%'].notnull())]\n",
    "    temp_arr = np.array(df_extracted['alcohol-10%'])\n",
    "    if len(temp_arr[temp_arr > threshold_low]) > 1:\n",
    "        _temp = np.nansum(temp_arr[temp_arr > threshold_low])\n",
    "        if (_temp < threshold_up):\n",
    "            df_h.loc[ind, 'alcohol-10%'] = _temp\n",
    "            _temp = np.nan\n",
    "\n",
    "\n",
    "    list_ = []\n",
    "    ind = np.array(df_h.loc[(df_h['hour_index'] == hour)].index)\n",
    "    df_extracted = df1.loc[(df1['hour_index'] == hour) & (df1['alcohol-20%'].notnull())]\n",
    "    temp_arr = np.array(df_extracted['alcohol-20%'])\n",
    "    if len(temp_arr[temp_arr > threshold_low]) > 1:\n",
    "        _temp = np.nansum(temp_arr[temp_arr > threshold_low])\n",
    "        if (_temp < threshold_up):\n",
    "            df_h.loc[ind, 'alcohol-20%'] = _temp\n",
    "            _temp = np.nan"
   ]
  },
  {
   "cell_type": "code",
   "execution_count": null,
   "id": "99200708",
   "metadata": {},
   "outputs": [],
   "source": []
  },
  {
   "cell_type": "code",
   "execution_count": null,
   "id": "96579a0d",
   "metadata": {},
   "outputs": [],
   "source": []
  },
  {
   "cell_type": "code",
   "execution_count": null,
   "id": "300f9c14",
   "metadata": {},
   "outputs": [],
   "source": []
  },
  {
   "cell_type": "code",
   "execution_count": null,
   "id": "dc01e5d3",
   "metadata": {},
   "outputs": [],
   "source": []
  },
  {
   "cell_type": "code",
   "execution_count": null,
   "id": "1f74b539",
   "metadata": {},
   "outputs": [],
   "source": []
  },
  {
   "cell_type": "code",
   "execution_count": null,
   "id": "b6b14df3",
   "metadata": {},
   "outputs": [],
   "source": []
  },
  {
   "cell_type": "code",
   "execution_count": null,
   "id": "60b183d4",
   "metadata": {},
   "outputs": [],
   "source": []
  },
  {
   "cell_type": "code",
   "execution_count": null,
   "id": "8adf1fc2",
   "metadata": {},
   "outputs": [],
   "source": []
  },
  {
   "cell_type": "code",
   "execution_count": null,
   "id": "74e3a36a",
   "metadata": {},
   "outputs": [],
   "source": []
  },
  {
   "cell_type": "code",
   "execution_count": null,
   "id": "40b97808",
   "metadata": {},
   "outputs": [],
   "source": []
  },
  {
   "cell_type": "code",
   "execution_count": null,
   "id": "0fbe7ed5",
   "metadata": {},
   "outputs": [],
   "source": []
  }
 ],
 "metadata": {
  "kernelspec": {
   "display_name": "Python 3",
   "language": "python",
   "name": "python3"
  },
  "language_info": {
   "codemirror_mode": {
    "name": "ipython",
    "version": 3
   },
   "file_extension": ".py",
   "mimetype": "text/x-python",
   "name": "python",
   "nbconvert_exporter": "python",
   "pygments_lexer": "ipython3",
   "version": "3.8.11"
  }
 },
 "nbformat": 4,
 "nbformat_minor": 5
}
